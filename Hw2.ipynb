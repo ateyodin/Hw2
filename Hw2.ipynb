{
  "nbformat": 4,
  "nbformat_minor": 0,
  "metadata": {
    "colab": {
      "name": "Hw2.ipynb",
      "version": "0.3.2",
      "provenance": [],
      "collapsed_sections": [],
      "include_colab_link": true
    },
    "kernelspec": {
      "name": "python3",
      "display_name": "Python 3"
    }
  },
  "cells": [
    {
      "cell_type": "markdown",
      "metadata": {
        "id": "view-in-github",
        "colab_type": "text"
      },
      "source": [
        "<a href=\"https://colab.research.google.com/github/ateyodin/Hw2/blob/master/Hw2.ipynb\" target=\"_parent\"><img src=\"https://colab.research.google.com/assets/colab-badge.svg\" alt=\"Open In Colab\"/></a>"
      ]
    },
    {
      "cell_type": "code",
      "metadata": {
        "id": "MZfHN1y3B85R",
        "colab_type": "code",
        "colab": {}
      },
      "source": [
        "import pandas as pd\n",
        "import numpy as np\n",
        "import matplotlib.pyplot as plt\n",
        "from datetime import datetime, timedelta\n",
        "\n",
        "from sklearn.linear_model import LinearRegression, Ridge, Lasso\n",
        "from sklearn import preprocessing\n",
        "from sklearn.model_selection import train_test_split"
      ],
      "execution_count": 0,
      "outputs": []
    },
    {
      "cell_type": "code",
      "metadata": {
        "id": "cFuYn_ppDINH",
        "colab_type": "code",
        "outputId": "0233627f-c6be-435f-a887-49dd3f10acf6",
        "colab": {
          "base_uri": "https://localhost:8080/",
          "height": 377
        }
      },
      "source": [
        "# Download the data and store it\n",
        "# Apple Stock \n",
        "!wget -O Apple.csv https://www.dropbox.com/s/2zy6dp2sersn4bq/AAPL.csv?dl=0"
      ],
      "execution_count": 0,
      "outputs": [
        {
          "output_type": "stream",
          "text": [
            "--2019-09-07 01:55:42--  https://www.dropbox.com/s/2zy6dp2sersn4bq/AAPL.csv?dl=0\n",
            "Resolving www.dropbox.com (www.dropbox.com)... 162.125.9.1, 2620:100:601f:1::a27d:901\n",
            "Connecting to www.dropbox.com (www.dropbox.com)|162.125.9.1|:443... connected.\n",
            "HTTP request sent, awaiting response... 301 Moved Permanently\n",
            "Location: /s/raw/2zy6dp2sersn4bq/AAPL.csv [following]\n",
            "--2019-09-07 01:55:43--  https://www.dropbox.com/s/raw/2zy6dp2sersn4bq/AAPL.csv\n",
            "Reusing existing connection to www.dropbox.com:443.\n",
            "HTTP request sent, awaiting response... 302 Found\n",
            "Location: https://uc91a46eaa89610c87298da7c209.dl.dropboxusercontent.com/cd/0/inline/AoH2QbviXtdGPk53Iuh59-TG2rC95fJEDJ-LqMIJDjWpD3H93Ayd_PQ9Q7bdRHZa2EDKnwMzBPsUX85W6HgFsJLi-koK6mIqqgZ7pllg4jxLidCp-SXu5KVGJd-d4_DrTQ0/file# [following]\n",
            "--2019-09-07 01:55:43--  https://uc91a46eaa89610c87298da7c209.dl.dropboxusercontent.com/cd/0/inline/AoH2QbviXtdGPk53Iuh59-TG2rC95fJEDJ-LqMIJDjWpD3H93Ayd_PQ9Q7bdRHZa2EDKnwMzBPsUX85W6HgFsJLi-koK6mIqqgZ7pllg4jxLidCp-SXu5KVGJd-d4_DrTQ0/file\n",
            "Resolving uc91a46eaa89610c87298da7c209.dl.dropboxusercontent.com (uc91a46eaa89610c87298da7c209.dl.dropboxusercontent.com)... 162.125.9.6, 2620:100:601f:6::a27d:906\n",
            "Connecting to uc91a46eaa89610c87298da7c209.dl.dropboxusercontent.com (uc91a46eaa89610c87298da7c209.dl.dropboxusercontent.com)|162.125.9.6|:443... connected.\n",
            "HTTP request sent, awaiting response... 200 OK\n",
            "Length: 18792 (18K) [text/plain]\n",
            "Saving to: ‘Apple.csv’\n",
            "\n",
            "Apple.csv           100%[===================>]  18.35K  --.-KB/s    in 0.02s   \n",
            "\n",
            "2019-09-07 01:55:43 (1.02 MB/s) - ‘Apple.csv’ saved [18792/18792]\n",
            "\n"
          ],
          "name": "stdout"
        }
      ]
    },
    {
      "cell_type": "code",
      "metadata": {
        "id": "mjb2h87lDngq",
        "colab_type": "code",
        "colab": {}
      },
      "source": [
        "df = pd.read_csv('Apple.csv')"
      ],
      "execution_count": 0,
      "outputs": []
    },
    {
      "cell_type": "code",
      "metadata": {
        "id": "R77cM0KoD6uk",
        "colab_type": "code",
        "colab": {}
      },
      "source": [
        "df['Date'] = pd.to_datetime(df.Date, format='%Y-%m-%d') \n",
        "df = df.set_index('Date')\n"
      ],
      "execution_count": 0,
      "outputs": []
    },
    {
      "cell_type": "code",
      "metadata": {
        "id": "awzx_kR1XKiu",
        "colab_type": "code",
        "outputId": "78f7faf5-562d-4b63-a131-c64a5866fe81",
        "colab": {
          "base_uri": "https://localhost:8080/",
          "height": 235
        }
      },
      "source": [
        "df.head()"
      ],
      "execution_count": 0,
      "outputs": [
        {
          "output_type": "execute_result",
          "data": {
            "text/html": [
              "<div>\n",
              "<style scoped>\n",
              "    .dataframe tbody tr th:only-of-type {\n",
              "        vertical-align: middle;\n",
              "    }\n",
              "\n",
              "    .dataframe tbody tr th {\n",
              "        vertical-align: top;\n",
              "    }\n",
              "\n",
              "    .dataframe thead th {\n",
              "        text-align: right;\n",
              "    }\n",
              "</style>\n",
              "<table border=\"1\" class=\"dataframe\">\n",
              "  <thead>\n",
              "    <tr style=\"text-align: right;\">\n",
              "      <th></th>\n",
              "      <th>Open</th>\n",
              "      <th>High</th>\n",
              "      <th>Low</th>\n",
              "      <th>Close</th>\n",
              "      <th>Adj Close</th>\n",
              "      <th>Volume</th>\n",
              "    </tr>\n",
              "    <tr>\n",
              "      <th>Date</th>\n",
              "      <th></th>\n",
              "      <th></th>\n",
              "      <th></th>\n",
              "      <th></th>\n",
              "      <th></th>\n",
              "      <th></th>\n",
              "    </tr>\n",
              "  </thead>\n",
              "  <tbody>\n",
              "    <tr>\n",
              "      <th>2018-09-04</th>\n",
              "      <td>228.410004</td>\n",
              "      <td>229.179993</td>\n",
              "      <td>226.630005</td>\n",
              "      <td>228.360001</td>\n",
              "      <td>224.870499</td>\n",
              "      <td>27390100</td>\n",
              "    </tr>\n",
              "    <tr>\n",
              "      <th>2018-09-05</th>\n",
              "      <td>228.990005</td>\n",
              "      <td>229.669998</td>\n",
              "      <td>225.100006</td>\n",
              "      <td>226.869995</td>\n",
              "      <td>223.403275</td>\n",
              "      <td>33333000</td>\n",
              "    </tr>\n",
              "    <tr>\n",
              "      <th>2018-09-06</th>\n",
              "      <td>226.229996</td>\n",
              "      <td>227.350006</td>\n",
              "      <td>221.300003</td>\n",
              "      <td>223.100006</td>\n",
              "      <td>219.690903</td>\n",
              "      <td>34290000</td>\n",
              "    </tr>\n",
              "    <tr>\n",
              "      <th>2018-09-07</th>\n",
              "      <td>221.850006</td>\n",
              "      <td>225.369995</td>\n",
              "      <td>220.710007</td>\n",
              "      <td>221.300003</td>\n",
              "      <td>217.918411</td>\n",
              "      <td>37619800</td>\n",
              "    </tr>\n",
              "    <tr>\n",
              "      <th>2018-09-10</th>\n",
              "      <td>220.949997</td>\n",
              "      <td>221.850006</td>\n",
              "      <td>216.470001</td>\n",
              "      <td>218.330002</td>\n",
              "      <td>214.993759</td>\n",
              "      <td>39516500</td>\n",
              "    </tr>\n",
              "  </tbody>\n",
              "</table>\n",
              "</div>"
            ],
            "text/plain": [
              "                  Open        High  ...   Adj Close    Volume\n",
              "Date                                ...                      \n",
              "2018-09-04  228.410004  229.179993  ...  224.870499  27390100\n",
              "2018-09-05  228.990005  229.669998  ...  223.403275  33333000\n",
              "2018-09-06  226.229996  227.350006  ...  219.690903  34290000\n",
              "2018-09-07  221.850006  225.369995  ...  217.918411  37619800\n",
              "2018-09-10  220.949997  221.850006  ...  214.993759  39516500\n",
              "\n",
              "[5 rows x 6 columns]"
            ]
          },
          "metadata": {
            "tags": []
          },
          "execution_count": 154
        }
      ]
    },
    {
      "cell_type": "code",
      "metadata": {
        "id": "yX2ktSiIEKuL",
        "colab_type": "code",
        "outputId": "2b758bec-fa04-4161-e5d3-bb333a472c54",
        "colab": {
          "base_uri": "https://localhost:8080/",
          "height": 235
        }
      },
      "source": [
        "df.tail()"
      ],
      "execution_count": 0,
      "outputs": [
        {
          "output_type": "execute_result",
          "data": {
            "text/html": [
              "<div>\n",
              "<style scoped>\n",
              "    .dataframe tbody tr th:only-of-type {\n",
              "        vertical-align: middle;\n",
              "    }\n",
              "\n",
              "    .dataframe tbody tr th {\n",
              "        vertical-align: top;\n",
              "    }\n",
              "\n",
              "    .dataframe thead th {\n",
              "        text-align: right;\n",
              "    }\n",
              "</style>\n",
              "<table border=\"1\" class=\"dataframe\">\n",
              "  <thead>\n",
              "    <tr style=\"text-align: right;\">\n",
              "      <th></th>\n",
              "      <th>Open</th>\n",
              "      <th>High</th>\n",
              "      <th>Low</th>\n",
              "      <th>Close</th>\n",
              "      <th>Adj Close</th>\n",
              "      <th>Volume</th>\n",
              "    </tr>\n",
              "    <tr>\n",
              "      <th>Date</th>\n",
              "      <th></th>\n",
              "      <th></th>\n",
              "      <th></th>\n",
              "      <th></th>\n",
              "      <th></th>\n",
              "      <th></th>\n",
              "    </tr>\n",
              "  </thead>\n",
              "  <tbody>\n",
              "    <tr>\n",
              "      <th>2019-08-26</th>\n",
              "      <td>205.860001</td>\n",
              "      <td>207.190002</td>\n",
              "      <td>205.059998</td>\n",
              "      <td>206.490005</td>\n",
              "      <td>206.490005</td>\n",
              "      <td>26043600</td>\n",
              "    </tr>\n",
              "    <tr>\n",
              "      <th>2019-08-27</th>\n",
              "      <td>207.860001</td>\n",
              "      <td>208.550003</td>\n",
              "      <td>203.529999</td>\n",
              "      <td>204.160004</td>\n",
              "      <td>204.160004</td>\n",
              "      <td>25873300</td>\n",
              "    </tr>\n",
              "    <tr>\n",
              "      <th>2019-08-28</th>\n",
              "      <td>204.100006</td>\n",
              "      <td>205.720001</td>\n",
              "      <td>203.320007</td>\n",
              "      <td>205.529999</td>\n",
              "      <td>205.529999</td>\n",
              "      <td>15938800</td>\n",
              "    </tr>\n",
              "    <tr>\n",
              "      <th>2019-08-29</th>\n",
              "      <td>208.500000</td>\n",
              "      <td>209.320007</td>\n",
              "      <td>206.660004</td>\n",
              "      <td>209.009995</td>\n",
              "      <td>209.009995</td>\n",
              "      <td>20990500</td>\n",
              "    </tr>\n",
              "    <tr>\n",
              "      <th>2019-08-30</th>\n",
              "      <td>210.160004</td>\n",
              "      <td>210.449997</td>\n",
              "      <td>207.199997</td>\n",
              "      <td>208.740005</td>\n",
              "      <td>208.740005</td>\n",
              "      <td>21143400</td>\n",
              "    </tr>\n",
              "  </tbody>\n",
              "</table>\n",
              "</div>"
            ],
            "text/plain": [
              "                  Open        High  ...   Adj Close    Volume\n",
              "Date                                ...                      \n",
              "2019-08-26  205.860001  207.190002  ...  206.490005  26043600\n",
              "2019-08-27  207.860001  208.550003  ...  204.160004  25873300\n",
              "2019-08-28  204.100006  205.720001  ...  205.529999  15938800\n",
              "2019-08-29  208.500000  209.320007  ...  209.009995  20990500\n",
              "2019-08-30  210.160004  210.449997  ...  208.740005  21143400\n",
              "\n",
              "[5 rows x 6 columns]"
            ]
          },
          "metadata": {
            "tags": []
          },
          "execution_count": 155
        }
      ]
    },
    {
      "cell_type": "code",
      "metadata": {
        "id": "HIkGVU_dEWuf",
        "colab_type": "code",
        "outputId": "b4be00c2-22d9-4b0f-bdc7-9d50f5c13994",
        "colab": {
          "base_uri": "https://localhost:8080/",
          "height": 506
        }
      },
      "source": [
        "df['Adj Close'].plot(label='Apple', figsize=(16,8), title='Adjusted Closing Price', grid=True)"
      ],
      "execution_count": 0,
      "outputs": [
        {
          "output_type": "execute_result",
          "data": {
            "text/plain": [
              "<matplotlib.axes._subplots.AxesSubplot at 0x7f9b67660198>"
            ]
          },
          "metadata": {
            "tags": []
          },
          "execution_count": 156
        },
        {
          "output_type": "display_data",
          "data": {
            "image/png": "[encoded data removed]",
            "text/plain": [
              "<Figure size 1152x576 with 1 Axes>"
            ]
          },
          "metadata": {
            "tags": []
          }
        }
      ]
    },
    {
      "cell_type": "code",
      "metadata": {
        "id": "CB55v9FfHoe7",
        "colab_type": "code",
        "colab": {}
      },
      "source": [
        "forecast_out = 30 \n",
        "df['Prediction'] = df['Adj Close'].shift(-forecast_out)"
      ],
      "execution_count": 0,
      "outputs": []
    },
    {
      "cell_type": "code",
      "metadata": {
        "id": "AbmunCbcH4-Q",
        "colab_type": "code",
        "colab": {}
      },
      "source": [
        "x = np.array(df.drop(['Prediction'], 1))\n",
        "x = x[:-forecast_out]"
      ],
      "execution_count": 0,
      "outputs": []
    },
    {
      "cell_type": "code",
      "metadata": {
        "id": "pSLVYn0TICIc",
        "colab_type": "code",
        "colab": {}
      },
      "source": [
        "y = np.array(df['Prediction'])\n",
        "y = y[:-forecast_out]"
      ],
      "execution_count": 0,
      "outputs": []
    },
    {
      "cell_type": "code",
      "metadata": {
        "id": "s2zt_COqINrr",
        "colab_type": "code",
        "colab": {}
      },
      "source": [
        "x_train, x_test, y_train, y_test = train_test_split(x, y, test_size = 0.3)"
      ],
      "execution_count": 0,
      "outputs": []
    },
    {
      "cell_type": "code",
      "metadata": {
        "id": "RgGlM-tpRvxE",
        "colab_type": "code",
        "outputId": "53040f23-441e-446f-8528-580a342e439d",
        "colab": {
          "base_uri": "https://localhost:8080/",
          "height": 34
        }
      },
      "source": [
        "linear_model = LinearRegression()\n",
        "linear_model.fit(x_train, y_train)"
      ],
      "execution_count": 0,
      "outputs": [
        {
          "output_type": "execute_result",
          "data": {
            "text/plain": [
              "LinearRegression(copy_X=True, fit_intercept=True, n_jobs=None, normalize=False)"
            ]
          },
          "metadata": {
            "tags": []
          },
          "execution_count": 161
        }
      ]
    },
    {
      "cell_type": "code",
      "metadata": {
        "id": "lHo60eAiR4bJ",
        "colab_type": "code",
        "outputId": "def18aff-ce3b-48b9-b0b0-95084d70e136",
        "colab": {
          "base_uri": "https://localhost:8080/",
          "height": 51
        }
      },
      "source": [
        "ridge_model = Ridge()\n",
        "ridge_model.fit(x_train, y_train)"
      ],
      "execution_count": 0,
      "outputs": [
        {
          "output_type": "execute_result",
          "data": {
            "text/plain": [
              "Ridge(alpha=1.0, copy_X=True, fit_intercept=True, max_iter=None,\n",
              "      normalize=False, random_state=None, solver='auto', tol=0.001)"
            ]
          },
          "metadata": {
            "tags": []
          },
          "execution_count": 162
        }
      ]
    },
    {
      "cell_type": "code",
      "metadata": {
        "id": "rU3KVMGsSAb5",
        "colab_type": "code",
        "outputId": "5e2068e5-5e9e-413c-edaf-fe56014bf2c7",
        "colab": {
          "base_uri": "https://localhost:8080/",
          "height": 122
        }
      },
      "source": [
        "lasso_model = Lasso()\n",
        "lasso_model.fit(x_train, y_train)"
      ],
      "execution_count": 0,
      "outputs": [
        {
          "output_type": "stream",
          "text": [
            "/usr/local/lib/python3.6/dist-packages/sklearn/linear_model/coordinate_descent.py:475: ConvergenceWarning: Objective did not converge. You might want to increase the number of iterations. Duality gap: 6423.624989276037, tolerance: 5.443550907553664\n",
            "  positive)\n"
          ],
          "name": "stderr"
        },
        {
          "output_type": "execute_result",
          "data": {
            "text/plain": [
              "Lasso(alpha=1.0, copy_X=True, fit_intercept=True, max_iter=1000,\n",
              "      normalize=False, positive=False, precompute=False, random_state=None,\n",
              "      selection='cyclic', tol=0.0001, warm_start=False)"
            ]
          },
          "metadata": {
            "tags": []
          },
          "execution_count": 163
        }
      ]
    },
    {
      "cell_type": "code",
      "metadata": {
        "id": "PhhXWsGQSIYp",
        "colab_type": "code",
        "outputId": "e3a7ed1d-8038-478a-a465-231494696437",
        "colab": {
          "base_uri": "https://localhost:8080/",
          "height": 34
        }
      },
      "source": [
        "linear_model_score = linear_model.score(x_test, y_test)\n",
        "print('LinearModel score:', linear_model_score)"
      ],
      "execution_count": 0,
      "outputs": [
        {
          "output_type": "stream",
          "text": [
            "LinearModel score: 0.3508663394058949\n"
          ],
          "name": "stdout"
        }
      ]
    },
    {
      "cell_type": "code",
      "metadata": {
        "id": "U4At9pkTSNZR",
        "colab_type": "code",
        "outputId": "f0a68ba5-bf71-4729-dd17-cc02b7cfd7cb",
        "colab": {
          "base_uri": "https://localhost:8080/",
          "height": 34
        }
      },
      "source": [
        "ridge_model_score = ridge_model.score(x_test, y_test)\n",
        "print('RidgeModel score:', ridge_model_score)"
      ],
      "execution_count": 0,
      "outputs": [
        {
          "output_type": "stream",
          "text": [
            "RidgeModel score: 0.3527883971074204\n"
          ],
          "name": "stdout"
        }
      ]
    },
    {
      "cell_type": "code",
      "metadata": {
        "id": "IHz1q7BMSRSK",
        "colab_type": "code",
        "outputId": "4927f3d5-ab9c-446a-c18b-2c274b57136c",
        "colab": {
          "base_uri": "https://localhost:8080/",
          "height": 34
        }
      },
      "source": [
        "lasso_model_score = lasso_model.score(x_test, y_test)\n",
        "print('LassoModel score:', lasso_model_score)"
      ],
      "execution_count": 0,
      "outputs": [
        {
          "output_type": "stream",
          "text": [
            "LassoModel score: 0.3056234616109088\n"
          ],
          "name": "stdout"
        }
      ]
    },
    {
      "cell_type": "code",
      "metadata": {
        "id": "_wId6lm4ORfF",
        "colab_type": "code",
        "colab": {}
      },
      "source": [
        "x_forecast = np.array(df.drop(['Prediction'], 1))[-forecast_out:]"
      ],
      "execution_count": 0,
      "outputs": []
    },
    {
      "cell_type": "code",
      "metadata": {
        "id": "F64StfvYX5iy",
        "colab_type": "code",
        "colab": {}
      },
      "source": [
        "linear_model_forecast_prediction = linear_model.predict(x_forecast)\n",
        "linear_model_real_prediction = linear_model.predict(np.array(df.drop(['Prediction'], 1)))"
      ],
      "execution_count": 0,
      "outputs": []
    },
    {
      "cell_type": "code",
      "metadata": {
        "id": "qSgBLzLJX_d6",
        "colab_type": "code",
        "colab": {}
      },
      "source": [
        "ridge_model_forecast_prediction = ridge_model.predict(x_forecast)\n",
        "ridge_model_real_prediction = ridge_model.predict(np.array(df.drop(['Prediction'], 1)))"
      ],
      "execution_count": 0,
      "outputs": []
    },
    {
      "cell_type": "code",
      "metadata": {
        "id": "TCB7C4EcYDxC",
        "colab_type": "code",
        "colab": {}
      },
      "source": [
        "lasso_model_forecast_prediction = lasso_model.predict(x_forecast)\n",
        "lasso_model_real_prediction = lasso_model.predict(np.array(df.drop(['Prediction'], 1)))"
      ],
      "execution_count": 0,
      "outputs": []
    },
    {
      "cell_type": "code",
      "metadata": {
        "id": "vgz89qLKcDeO",
        "colab_type": "code",
        "colab": {}
      },
      "source": [
        "predicted_dates = []\n",
        "recent_date = df.index.max()\n",
        "display_at = 2100\n",
        "alpha = 0.5"
      ],
      "execution_count": 0,
      "outputs": []
    },
    {
      "cell_type": "code",
      "metadata": {
        "id": "gBZ0tKFVcUPw",
        "colab_type": "code",
        "outputId": "f8f36286-684c-4485-e06c-3240dabfdd30",
        "colab": {
          "base_uri": "https://localhost:8080/",
          "height": 286
        }
      },
      "source": [
        "for i in range(forecast_out):\n",
        "    recent_date += timedelta(days=10)\n",
        "    predicted_dates.append(recent_date)\n",
        "    \n",
        "    plt.plot(df.index[display_at:], linear_model_real_prediction[display_at:], label='Linear Preds', c='blue', alpha=alpha)\n",
        "plt.plot(predicted_dates, linear_model_forecast_prediction, c='blue', alpha=alpha)"
      ],
      "execution_count": 0,
      "outputs": [
        {
          "output_type": "execute_result",
          "data": {
            "text/plain": [
              "[<matplotlib.lines.Line2D at 0x7f9b675ccd30>]"
            ]
          },
          "metadata": {
            "tags": []
          },
          "execution_count": 173
        },
        {
          "output_type": "display_data",
          "data": {
            "image/png": "[encoded data removed]",
            "text/plain": [
              "<Figure size 432x288 with 1 Axes>"
            ]
          },
          "metadata": {
            "tags": []
          }
        }
      ]
    },
    {
      "cell_type": "code",
      "metadata": {
        "id": "VKlTu50IcaJS",
        "colab_type": "code",
        "outputId": "b52c6049-9e0e-4cb4-cd33-a59b55664479",
        "colab": {
          "base_uri": "https://localhost:8080/",
          "height": 286
        }
      },
      "source": [
        "plt.plot(df.index[display_at:], ridge_model_real_prediction[display_at:], label='Ridge Preds', c='green', alpha=alpha)\n",
        "plt.plot(predicted_dates, ridge_model_forecast_prediction, c='green', alpha=alpha)"
      ],
      "execution_count": 0,
      "outputs": [
        {
          "output_type": "execute_result",
          "data": {
            "text/plain": [
              "[<matplotlib.lines.Line2D at 0x7f9b674e8748>]"
            ]
          },
          "metadata": {
            "tags": []
          },
          "execution_count": 174
        },
        {
          "output_type": "display_data",
          "data": {
            "image/png": "[encoded data removed]",
            "text/plain": [
              "<Figure size 432x288 with 1 Axes>"
            ]
          },
          "metadata": {
            "tags": []
          }
        }
      ]
    },
    {
      "cell_type": "code",
      "metadata": {
        "id": "th9K25GUcegd",
        "colab_type": "code",
        "outputId": "535f9620-d4aa-4060-b8e3-499fd318b245",
        "colab": {
          "base_uri": "https://localhost:8080/",
          "height": 286
        }
      },
      "source": [
        "plt.plot(df.index[display_at:], lasso_model_real_prediction[display_at:], label='Lasso Preds', c='red', alpha=alpha)\n",
        "plt.plot(predicted_dates, lasso_model_forecast_prediction, c='red', alpha=alpha)"
      ],
      "execution_count": 0,
      "outputs": [
        {
          "output_type": "execute_result",
          "data": {
            "text/plain": [
              "[<matplotlib.lines.Line2D at 0x7f9b674cc4a8>]"
            ]
          },
          "metadata": {
            "tags": []
          },
          "execution_count": 175
        },
        {
          "output_type": "display_data",
          "data": {
            "image/png": "[encoded data removed]",
            "text/plain": [
              "<Figure size 432x288 with 1 Axes>"
            ]
          },
          "metadata": {
            "tags": []
          }
        }
      ]
    },
    {
      "cell_type": "code",
      "metadata": {
        "id": "4WC6bGrTcgVq",
        "colab_type": "code",
        "colab": {}
      },
      "source": [
        ""
      ],
      "execution_count": 0,
      "outputs": []
    },
    {
      "cell_type": "code",
      "metadata": {
        "id": "C7rMIHgCcj_v",
        "colab_type": "code",
        "outputId": "ddac054e-b1b5-4247-ba02-a95cbb00edfa",
        "colab": {
          "base_uri": "https://localhost:8080/",
          "height": 286
        }
      },
      "source": [
        "plt.plot(df.index[display_at:], linear_model_real_prediction[display_at:], label='Linear Preds', c='blue', alpha=alpha)\n",
        "plt.plot(predicted_dates, linear_model_forecast_prediction, c='blue', alpha=alpha)\n",
        "plt.plot(df.index[display_at:], ridge_model_real_prediction[display_at:], label='Ridge Preds', c='green', alpha=alpha)\n",
        "plt.plot(predicted_dates, ridge_model_forecast_prediction, c='green', alpha=alpha)\n",
        "plt.plot(df.index[display_at:], lasso_model_real_prediction[display_at:], label='Lasso Preds', c='red', alpha=alpha)\n",
        "plt.plot(predicted_dates, lasso_model_forecast_prediction, c='red', alpha=alpha)"
      ],
      "execution_count": 0,
      "outputs": [
        {
          "output_type": "execute_result",
          "data": {
            "text/plain": [
              "[<matplotlib.lines.Line2D at 0x7f9b6745acf8>]"
            ]
          },
          "metadata": {
            "tags": []
          },
          "execution_count": 176
        },
        {
          "output_type": "display_data",
          "data": {
            "image/png": "[encoded data removed]",
            "text/plain": [
              "<Figure size 432x288 with 1 Axes>"
            ]
          },
          "metadata": {
            "tags": []
          }
        }
      ]
    }
  ]
}